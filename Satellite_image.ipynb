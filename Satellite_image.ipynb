{
  "nbformat": 4,
  "nbformat_minor": 0,
  "metadata": {
    "colab": {
      "provenance": [],
      "gpuType": "T4",
      "authorship_tag": "ABX9TyNNeA3nuLKMhJjj5qfIMtff",
      "include_colab_link": true
    },
    "kernelspec": {
      "name": "python3",
      "display_name": "Python 3"
    },
    "language_info": {
      "name": "python"
    },
    "accelerator": "GPU"
  },
  "cells": [
    {
      "cell_type": "markdown",
      "metadata": {
        "id": "view-in-github",
        "colab_type": "text"
      },
      "source": [
        "<a href=\"https://colab.research.google.com/github/07anishu12/Satellite_Image_object_detection/blob/main/Satellite_image.ipynb\" target=\"_parent\"><img src=\"https://colab.research.google.com/assets/colab-badge.svg\" alt=\"Open In Colab\"/></a>"
      ]
    },
    {
      "cell_type": "code",
      "source": [
        "import os\n",
        "import cv2\n",
        "from PIL import Image\n",
        "import numpy as np\n",
        "from patchify import patchify\n",
        "from sklearn.preprocessing import MinMaxScaler, StandardScaler\n",
        "\n",
        "from matplotlib import pyplot as plt\n",
        "import random"
      ],
      "metadata": {
        "id": "NKGvdSMgfr7U"
      },
      "execution_count": 17,
      "outputs": []
    },
    {
      "cell_type": "code",
      "source": [
        "# Set up Kaggle API credentials\n",
        "import os\n",
        "\n",
        "# Set Kaggle username and API key\n",
        "os.environ['KAGGLE_USERNAME'] = \"\" # Replace with your username\n",
        "os.environ['KAGGLE_KEY'] = \"\"  # Replace with your API key\n"
      ],
      "metadata": {
        "id": "1WJTbFITgAo3"
      },
      "execution_count": 3,
      "outputs": []
    },
    {
      "cell_type": "code",
      "source": [
        "!kaggle datasets download -d humansintheloop/semantic-segmentation-of-aerial-imagery\n"
      ],
      "metadata": {
        "colab": {
          "base_uri": "https://localhost:8080/"
        },
        "id": "Bvw-TGXRhnbI",
        "outputId": "0881ced0-359a-40ca-a5be-c545e428dae0"
      },
      "execution_count": 4,
      "outputs": [
        {
          "output_type": "stream",
          "name": "stdout",
          "text": [
            "Dataset URL: https://www.kaggle.com/datasets/humansintheloop/semantic-segmentation-of-aerial-imagery\n",
            "License(s): CC0-1.0\n",
            "Downloading semantic-segmentation-of-aerial-imagery.zip to /content\n",
            " 98% 29.0M/29.6M [00:01<00:00, 23.4MB/s]\n",
            "100% 29.6M/29.6M [00:02<00:00, 15.5MB/s]\n"
          ]
        }
      ]
    },
    {
      "cell_type": "code",
      "source": [
        "!unzip semantic-segmentation-of-aerial-imagery.zip"
      ],
      "metadata": {
        "colab": {
          "base_uri": "https://localhost:8080/"
        },
        "id": "XhSS9I_ghqZf",
        "outputId": "ea822e10-f7fa-4409-b9f3-531308f751a8"
      },
      "execution_count": 5,
      "outputs": [
        {
          "output_type": "stream",
          "name": "stdout",
          "text": [
            "Archive:  semantic-segmentation-of-aerial-imagery.zip\n",
            "  inflating: Semantic segmentation dataset/Tile 1/images/image_part_001.jpg  \n",
            "  inflating: Semantic segmentation dataset/Tile 1/images/image_part_002.jpg  \n",
            "  inflating: Semantic segmentation dataset/Tile 1/images/image_part_003.jpg  \n",
            "  inflating: Semantic segmentation dataset/Tile 1/images/image_part_004.jpg  \n",
            "  inflating: Semantic segmentation dataset/Tile 1/images/image_part_005.jpg  \n",
            "  inflating: Semantic segmentation dataset/Tile 1/images/image_part_006.jpg  \n",
            "  inflating: Semantic segmentation dataset/Tile 1/images/image_part_007.jpg  \n",
            "  inflating: Semantic segmentation dataset/Tile 1/images/image_part_008.jpg  \n",
            "  inflating: Semantic segmentation dataset/Tile 1/images/image_part_009.jpg  \n",
            "  inflating: Semantic segmentation dataset/Tile 1/masks/image_part_001.png  \n",
            "  inflating: Semantic segmentation dataset/Tile 1/masks/image_part_002.png  \n",
            "  inflating: Semantic segmentation dataset/Tile 1/masks/image_part_003.png  \n",
            "  inflating: Semantic segmentation dataset/Tile 1/masks/image_part_004.png  \n",
            "  inflating: Semantic segmentation dataset/Tile 1/masks/image_part_005.png  \n",
            "  inflating: Semantic segmentation dataset/Tile 1/masks/image_part_006.png  \n",
            "  inflating: Semantic segmentation dataset/Tile 1/masks/image_part_007.png  \n",
            "  inflating: Semantic segmentation dataset/Tile 1/masks/image_part_008.png  \n",
            "  inflating: Semantic segmentation dataset/Tile 1/masks/image_part_009.png  \n",
            "  inflating: Semantic segmentation dataset/Tile 2/images/image_part_001.jpg  \n",
            "  inflating: Semantic segmentation dataset/Tile 2/images/image_part_002.jpg  \n",
            "  inflating: Semantic segmentation dataset/Tile 2/images/image_part_003.jpg  \n",
            "  inflating: Semantic segmentation dataset/Tile 2/images/image_part_004.jpg  \n",
            "  inflating: Semantic segmentation dataset/Tile 2/images/image_part_005.jpg  \n",
            "  inflating: Semantic segmentation dataset/Tile 2/images/image_part_006.jpg  \n",
            "  inflating: Semantic segmentation dataset/Tile 2/images/image_part_007.jpg  \n",
            "  inflating: Semantic segmentation dataset/Tile 2/images/image_part_008.jpg  \n",
            "  inflating: Semantic segmentation dataset/Tile 2/images/image_part_009.jpg  \n",
            "  inflating: Semantic segmentation dataset/Tile 2/masks/image_part_001.png  \n",
            "  inflating: Semantic segmentation dataset/Tile 2/masks/image_part_002.png  \n",
            "  inflating: Semantic segmentation dataset/Tile 2/masks/image_part_003.png  \n",
            "  inflating: Semantic segmentation dataset/Tile 2/masks/image_part_004.png  \n",
            "  inflating: Semantic segmentation dataset/Tile 2/masks/image_part_005.png  \n",
            "  inflating: Semantic segmentation dataset/Tile 2/masks/image_part_006.png  \n",
            "  inflating: Semantic segmentation dataset/Tile 2/masks/image_part_007.png  \n",
            "  inflating: Semantic segmentation dataset/Tile 2/masks/image_part_008.png  \n",
            "  inflating: Semantic segmentation dataset/Tile 2/masks/image_part_009.png  \n",
            "  inflating: Semantic segmentation dataset/Tile 3/images/image_part_001.jpg  \n",
            "  inflating: Semantic segmentation dataset/Tile 3/images/image_part_002.jpg  \n",
            "  inflating: Semantic segmentation dataset/Tile 3/images/image_part_003.jpg  \n",
            "  inflating: Semantic segmentation dataset/Tile 3/images/image_part_004.jpg  \n",
            "  inflating: Semantic segmentation dataset/Tile 3/images/image_part_005.jpg  \n",
            "  inflating: Semantic segmentation dataset/Tile 3/images/image_part_006.jpg  \n",
            "  inflating: Semantic segmentation dataset/Tile 3/images/image_part_007.jpg  \n",
            "  inflating: Semantic segmentation dataset/Tile 3/images/image_part_008.jpg  \n",
            "  inflating: Semantic segmentation dataset/Tile 3/images/image_part_009.jpg  \n",
            "  inflating: Semantic segmentation dataset/Tile 3/masks/image_part_001.png  \n",
            "  inflating: Semantic segmentation dataset/Tile 3/masks/image_part_002.png  \n",
            "  inflating: Semantic segmentation dataset/Tile 3/masks/image_part_003.png  \n",
            "  inflating: Semantic segmentation dataset/Tile 3/masks/image_part_004.png  \n",
            "  inflating: Semantic segmentation dataset/Tile 3/masks/image_part_005.png  \n",
            "  inflating: Semantic segmentation dataset/Tile 3/masks/image_part_006.png  \n",
            "  inflating: Semantic segmentation dataset/Tile 3/masks/image_part_007.png  \n",
            "  inflating: Semantic segmentation dataset/Tile 3/masks/image_part_008.png  \n",
            "  inflating: Semantic segmentation dataset/Tile 3/masks/image_part_009.png  \n",
            "  inflating: Semantic segmentation dataset/Tile 4/images/image_part_001.jpg  \n",
            "  inflating: Semantic segmentation dataset/Tile 4/images/image_part_002.jpg  \n",
            "  inflating: Semantic segmentation dataset/Tile 4/images/image_part_003.jpg  \n",
            "  inflating: Semantic segmentation dataset/Tile 4/images/image_part_004.jpg  \n",
            "  inflating: Semantic segmentation dataset/Tile 4/images/image_part_005.jpg  \n",
            "  inflating: Semantic segmentation dataset/Tile 4/images/image_part_006.jpg  \n",
            "  inflating: Semantic segmentation dataset/Tile 4/images/image_part_007.jpg  \n",
            "  inflating: Semantic segmentation dataset/Tile 4/images/image_part_008.jpg  \n",
            "  inflating: Semantic segmentation dataset/Tile 4/images/image_part_009.jpg  \n",
            "  inflating: Semantic segmentation dataset/Tile 4/masks/image_part_001.png  \n",
            "  inflating: Semantic segmentation dataset/Tile 4/masks/image_part_002.png  \n",
            "  inflating: Semantic segmentation dataset/Tile 4/masks/image_part_003.png  \n",
            "  inflating: Semantic segmentation dataset/Tile 4/masks/image_part_004.png  \n",
            "  inflating: Semantic segmentation dataset/Tile 4/masks/image_part_005.png  \n",
            "  inflating: Semantic segmentation dataset/Tile 4/masks/image_part_006.png  \n",
            "  inflating: Semantic segmentation dataset/Tile 4/masks/image_part_007.png  \n",
            "  inflating: Semantic segmentation dataset/Tile 4/masks/image_part_008.png  \n",
            "  inflating: Semantic segmentation dataset/Tile 4/masks/image_part_009.png  \n",
            "  inflating: Semantic segmentation dataset/Tile 5/images/image_part_001.jpg  \n",
            "  inflating: Semantic segmentation dataset/Tile 5/images/image_part_002.jpg  \n",
            "  inflating: Semantic segmentation dataset/Tile 5/images/image_part_003.jpg  \n",
            "  inflating: Semantic segmentation dataset/Tile 5/images/image_part_004.jpg  \n",
            "  inflating: Semantic segmentation dataset/Tile 5/images/image_part_005.jpg  \n",
            "  inflating: Semantic segmentation dataset/Tile 5/images/image_part_006.jpg  \n",
            "  inflating: Semantic segmentation dataset/Tile 5/images/image_part_007.jpg  \n",
            "  inflating: Semantic segmentation dataset/Tile 5/images/image_part_008.jpg  \n",
            "  inflating: Semantic segmentation dataset/Tile 5/images/image_part_009.jpg  \n",
            "  inflating: Semantic segmentation dataset/Tile 5/masks/image_part_001.png  \n",
            "  inflating: Semantic segmentation dataset/Tile 5/masks/image_part_002.png  \n",
            "  inflating: Semantic segmentation dataset/Tile 5/masks/image_part_003.png  \n",
            "  inflating: Semantic segmentation dataset/Tile 5/masks/image_part_004.png  \n",
            "  inflating: Semantic segmentation dataset/Tile 5/masks/image_part_005.png  \n",
            "  inflating: Semantic segmentation dataset/Tile 5/masks/image_part_006.png  \n",
            "  inflating: Semantic segmentation dataset/Tile 5/masks/image_part_007.png  \n",
            "  inflating: Semantic segmentation dataset/Tile 5/masks/image_part_008.png  \n",
            "  inflating: Semantic segmentation dataset/Tile 5/masks/image_part_009.png  \n",
            "  inflating: Semantic segmentation dataset/Tile 6/images/image_part_001.jpg  \n",
            "  inflating: Semantic segmentation dataset/Tile 6/images/image_part_002.jpg  \n",
            "  inflating: Semantic segmentation dataset/Tile 6/images/image_part_003.jpg  \n",
            "  inflating: Semantic segmentation dataset/Tile 6/images/image_part_004.jpg  \n",
            "  inflating: Semantic segmentation dataset/Tile 6/images/image_part_005.jpg  \n",
            "  inflating: Semantic segmentation dataset/Tile 6/images/image_part_006.jpg  \n",
            "  inflating: Semantic segmentation dataset/Tile 6/images/image_part_007.jpg  \n",
            "  inflating: Semantic segmentation dataset/Tile 6/images/image_part_008.jpg  \n",
            "  inflating: Semantic segmentation dataset/Tile 6/images/image_part_009.jpg  \n",
            "  inflating: Semantic segmentation dataset/Tile 6/masks/image_part_001.png  \n",
            "  inflating: Semantic segmentation dataset/Tile 6/masks/image_part_002.png  \n",
            "  inflating: Semantic segmentation dataset/Tile 6/masks/image_part_003.png  \n",
            "  inflating: Semantic segmentation dataset/Tile 6/masks/image_part_004.png  \n",
            "  inflating: Semantic segmentation dataset/Tile 6/masks/image_part_005.png  \n",
            "  inflating: Semantic segmentation dataset/Tile 6/masks/image_part_006.png  \n",
            "  inflating: Semantic segmentation dataset/Tile 6/masks/image_part_007.png  \n",
            "  inflating: Semantic segmentation dataset/Tile 6/masks/image_part_008.png  \n",
            "  inflating: Semantic segmentation dataset/Tile 6/masks/image_part_009.png  \n",
            "  inflating: Semantic segmentation dataset/Tile 7/images/image_part_001.jpg  \n",
            "  inflating: Semantic segmentation dataset/Tile 7/images/image_part_002.jpg  \n",
            "  inflating: Semantic segmentation dataset/Tile 7/images/image_part_003.jpg  \n",
            "  inflating: Semantic segmentation dataset/Tile 7/images/image_part_004.jpg  \n",
            "  inflating: Semantic segmentation dataset/Tile 7/images/image_part_005.jpg  \n",
            "  inflating: Semantic segmentation dataset/Tile 7/images/image_part_006.jpg  \n",
            "  inflating: Semantic segmentation dataset/Tile 7/images/image_part_007.jpg  \n",
            "  inflating: Semantic segmentation dataset/Tile 7/images/image_part_008.jpg  \n",
            "  inflating: Semantic segmentation dataset/Tile 7/images/image_part_009.jpg  \n",
            "  inflating: Semantic segmentation dataset/Tile 7/masks/image_part_001.png  \n",
            "  inflating: Semantic segmentation dataset/Tile 7/masks/image_part_002.png  \n",
            "  inflating: Semantic segmentation dataset/Tile 7/masks/image_part_003.png  \n",
            "  inflating: Semantic segmentation dataset/Tile 7/masks/image_part_004.png  \n",
            "  inflating: Semantic segmentation dataset/Tile 7/masks/image_part_005.png  \n",
            "  inflating: Semantic segmentation dataset/Tile 7/masks/image_part_006.png  \n",
            "  inflating: Semantic segmentation dataset/Tile 7/masks/image_part_007.png  \n",
            "  inflating: Semantic segmentation dataset/Tile 7/masks/image_part_008.png  \n",
            "  inflating: Semantic segmentation dataset/Tile 7/masks/image_part_009.png  \n",
            "  inflating: Semantic segmentation dataset/Tile 8/images/image_part_001.jpg  \n",
            "  inflating: Semantic segmentation dataset/Tile 8/images/image_part_002.jpg  \n",
            "  inflating: Semantic segmentation dataset/Tile 8/images/image_part_003.jpg  \n",
            "  inflating: Semantic segmentation dataset/Tile 8/images/image_part_004.jpg  \n",
            "  inflating: Semantic segmentation dataset/Tile 8/images/image_part_005.jpg  \n",
            "  inflating: Semantic segmentation dataset/Tile 8/images/image_part_006.jpg  \n",
            "  inflating: Semantic segmentation dataset/Tile 8/images/image_part_007.jpg  \n",
            "  inflating: Semantic segmentation dataset/Tile 8/images/image_part_008.jpg  \n",
            "  inflating: Semantic segmentation dataset/Tile 8/images/image_part_009.jpg  \n",
            "  inflating: Semantic segmentation dataset/Tile 8/masks/image_part_001.png  \n",
            "  inflating: Semantic segmentation dataset/Tile 8/masks/image_part_002.png  \n",
            "  inflating: Semantic segmentation dataset/Tile 8/masks/image_part_003.png  \n",
            "  inflating: Semantic segmentation dataset/Tile 8/masks/image_part_004.png  \n",
            "  inflating: Semantic segmentation dataset/Tile 8/masks/image_part_005.png  \n",
            "  inflating: Semantic segmentation dataset/Tile 8/masks/image_part_006.png  \n",
            "  inflating: Semantic segmentation dataset/Tile 8/masks/image_part_007.png  \n",
            "  inflating: Semantic segmentation dataset/Tile 8/masks/image_part_008.png  \n",
            "  inflating: Semantic segmentation dataset/Tile 8/masks/image_part_009.png  \n",
            "  inflating: Semantic segmentation dataset/classes.json  \n"
          ]
        }
      ]
    },
    {
      "cell_type": "code",
      "source": [
        "dataset_root = \"/content/Semantic segmentation dataset\"\n",
        "loaded_images = []"
      ],
      "metadata": {
        "id": "2PbjZVZ3huUT"
      },
      "execution_count": 18,
      "outputs": []
    },
    {
      "cell_type": "code",
      "source": [
        "for path, subdirs, files in os.walk(dataset_root):\n",
        "    if 'images' in path:\n",
        "        images = [f for f in files if f.endswith(\".jpg\")]\n",
        "        print(f\"Found {len(images)} images in {path}.\")\n",
        "\n",
        "        for image_name in images:\n",
        "            image_path = os.path.join(path, image_name)\n",
        "            image = cv2.imread(image_path, 1)\n",
        "\n",
        "            if image is not None:\n",
        "                loaded_images.append(image)\n",
        "                print(f\"Loaded {image_name} with shape: {image.shape}\")\n",
        "            else:\n",
        "                print(f\"Error: Unable to load image at {image_path}.\")"
      ],
      "metadata": {
        "colab": {
          "base_uri": "https://localhost:8080/"
        },
        "id": "PCwamdKqjEuW",
        "outputId": "450a2420-0353-40d6-de42-aefd43a06f12"
      },
      "execution_count": 19,
      "outputs": [
        {
          "output_type": "stream",
          "name": "stdout",
          "text": [
            "Found 9 images in /content/Semantic segmentation dataset/Tile 4/images.\n",
            "Loaded image_part_007.jpg with shape: (846, 1099, 3)\n",
            "Loaded image_part_005.jpg with shape: (846, 1099, 3)\n",
            "Loaded image_part_009.jpg with shape: (846, 1099, 3)\n",
            "Loaded image_part_006.jpg with shape: (846, 1099, 3)\n",
            "Loaded image_part_004.jpg with shape: (846, 1099, 3)\n",
            "Loaded image_part_002.jpg with shape: (846, 1099, 3)\n",
            "Loaded image_part_001.jpg with shape: (846, 1099, 3)\n",
            "Loaded image_part_003.jpg with shape: (846, 1099, 3)\n",
            "Loaded image_part_008.jpg with shape: (846, 1099, 3)\n",
            "Found 9 images in /content/Semantic segmentation dataset/Tile 7/images.\n",
            "Loaded image_part_007.jpg with shape: (2061, 1817, 3)\n",
            "Loaded image_part_005.jpg with shape: (2062, 1816, 3)\n",
            "Loaded image_part_009.jpg with shape: (2061, 1817, 3)\n",
            "Loaded image_part_006.jpg with shape: (2062, 1817, 3)\n",
            "Loaded image_part_004.jpg with shape: (2062, 1817, 3)\n",
            "Loaded image_part_002.jpg with shape: (2061, 1816, 3)\n",
            "Loaded image_part_001.jpg with shape: (2061, 1817, 3)\n",
            "Loaded image_part_003.jpg with shape: (2061, 1817, 3)\n",
            "Loaded image_part_008.jpg with shape: (2061, 1816, 3)\n",
            "Found 9 images in /content/Semantic segmentation dataset/Tile 3/images.\n",
            "Loaded image_part_007.jpg with shape: (658, 682, 3)\n",
            "Loaded image_part_005.jpg with shape: (658, 682, 3)\n",
            "Loaded image_part_009.jpg with shape: (658, 682, 3)\n",
            "Loaded image_part_006.jpg with shape: (658, 682, 3)\n",
            "Loaded image_part_004.jpg with shape: (658, 682, 3)\n",
            "Loaded image_part_002.jpg with shape: (658, 682, 3)\n",
            "Loaded image_part_001.jpg with shape: (658, 682, 3)\n",
            "Loaded image_part_003.jpg with shape: (658, 682, 3)\n",
            "Loaded image_part_008.jpg with shape: (658, 682, 3)\n",
            "Found 9 images in /content/Semantic segmentation dataset/Tile 2/images.\n",
            "Loaded image_part_007.jpg with shape: (544, 509, 3)\n",
            "Loaded image_part_005.jpg with shape: (544, 510, 3)\n",
            "Loaded image_part_009.jpg with shape: (544, 509, 3)\n",
            "Loaded image_part_006.jpg with shape: (544, 509, 3)\n",
            "Loaded image_part_004.jpg with shape: (544, 509, 3)\n",
            "Loaded image_part_002.jpg with shape: (544, 510, 3)\n",
            "Loaded image_part_001.jpg with shape: (544, 509, 3)\n",
            "Loaded image_part_003.jpg with shape: (544, 509, 3)\n",
            "Loaded image_part_008.jpg with shape: (544, 510, 3)\n",
            "Found 9 images in /content/Semantic segmentation dataset/Tile 8/images.\n",
            "Loaded image_part_007.jpg with shape: (1479, 2149, 3)\n",
            "Loaded image_part_005.jpg with shape: (1480, 2149, 3)\n",
            "Loaded image_part_009.jpg with shape: (1479, 2149, 3)\n",
            "Loaded image_part_006.jpg with shape: (1480, 2149, 3)\n",
            "Loaded image_part_004.jpg with shape: (1480, 2149, 3)\n",
            "Loaded image_part_002.jpg with shape: (1479, 2149, 3)\n",
            "Loaded image_part_001.jpg with shape: (1479, 2149, 3)\n",
            "Loaded image_part_003.jpg with shape: (1479, 2149, 3)\n",
            "Loaded image_part_008.jpg with shape: (1479, 2149, 3)\n",
            "Found 9 images in /content/Semantic segmentation dataset/Tile 5/images.\n",
            "Loaded image_part_007.jpg with shape: (1058, 1126, 3)\n",
            "Loaded image_part_005.jpg with shape: (1058, 1126, 3)\n",
            "Loaded image_part_009.jpg with shape: (1058, 1126, 3)\n",
            "Loaded image_part_006.jpg with shape: (1058, 1126, 3)\n",
            "Loaded image_part_004.jpg with shape: (1058, 1126, 3)\n",
            "Loaded image_part_002.jpg with shape: (1058, 1126, 3)\n",
            "Loaded image_part_001.jpg with shape: (1058, 1126, 3)\n",
            "Loaded image_part_003.jpg with shape: (1058, 1126, 3)\n",
            "Loaded image_part_008.jpg with shape: (1058, 1126, 3)\n",
            "Found 9 images in /content/Semantic segmentation dataset/Tile 1/images.\n",
            "Loaded image_part_007.jpg with shape: (644, 797, 3)\n",
            "Loaded image_part_005.jpg with shape: (643, 797, 3)\n",
            "Loaded image_part_009.jpg with shape: (644, 797, 3)\n",
            "Loaded image_part_006.jpg with shape: (643, 797, 3)\n",
            "Loaded image_part_004.jpg with shape: (643, 797, 3)\n",
            "Loaded image_part_002.jpg with shape: (644, 797, 3)\n",
            "Loaded image_part_001.jpg with shape: (644, 797, 3)\n",
            "Loaded image_part_003.jpg with shape: (644, 797, 3)\n",
            "Loaded image_part_008.jpg with shape: (644, 797, 3)\n",
            "Found 9 images in /content/Semantic segmentation dataset/Tile 6/images.\n",
            "Loaded image_part_007.jpg with shape: (838, 859, 3)\n",
            "Loaded image_part_005.jpg with shape: (838, 859, 3)\n",
            "Loaded image_part_009.jpg with shape: (838, 859, 3)\n",
            "Loaded image_part_006.jpg with shape: (838, 859, 3)\n",
            "Loaded image_part_004.jpg with shape: (838, 859, 3)\n",
            "Loaded image_part_002.jpg with shape: (838, 859, 3)\n",
            "Loaded image_part_001.jpg with shape: (838, 859, 3)\n",
            "Loaded image_part_003.jpg with shape: (838, 859, 3)\n",
            "Loaded image_part_008.jpg with shape: (838, 859, 3)\n"
          ]
        }
      ]
    },
    {
      "cell_type": "code",
      "source": [
        "print(f\"Total loaded images: {len(loaded_images)}\")\n"
      ],
      "metadata": {
        "colab": {
          "base_uri": "https://localhost:8080/"
        },
        "id": "21foWROUkugD",
        "outputId": "893bb3da-3866-4e28-8a1e-097894f10256"
      },
      "execution_count": 20,
      "outputs": [
        {
          "output_type": "stream",
          "name": "stdout",
          "text": [
            "Total loaded images: 72\n"
          ]
        }
      ]
    },
    {
      "cell_type": "code",
      "source": [
        "shape = cv2.imread(image_path, 1).shape if cv2.imread(image_path, 1) is not None else None\n"
      ],
      "metadata": {
        "id": "NJfxpnIhlPAs"
      },
      "execution_count": 21,
      "outputs": []
    },
    {
      "cell_type": "code",
      "source": [
        "shape"
      ],
      "metadata": {
        "colab": {
          "base_uri": "https://localhost:8080/"
        },
        "id": "AqLwLoT1nlo7",
        "outputId": "22e3cc81-bf61-4760-90ee-31151750c593"
      },
      "execution_count": 26,
      "outputs": [
        {
          "output_type": "execute_result",
          "data": {
            "text/plain": [
              "(838, 859, 3)"
            ]
          },
          "metadata": {},
          "execution_count": 26
        }
      ]
    },
    {
      "cell_type": "code",
      "source": [],
      "metadata": {
        "id": "e0pSYjGGoBG_"
      },
      "execution_count": null,
      "outputs": []
    }
  ]
}